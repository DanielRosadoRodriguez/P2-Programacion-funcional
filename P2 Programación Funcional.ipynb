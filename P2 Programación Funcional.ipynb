{
 "cells": [
  {
   "cell_type": "markdown",
   "id": "ed1d4deb",
   "metadata": {},
   "source": [
    "# P2 Programación funcional"
   ]
  },
  {
   "cell_type": "markdown",
   "id": "b9ef03e1",
   "metadata": {},
   "source": [
    "## 1. Defina la función B que calcule los coeficientes binomiales B(n,k) = n!/((n-k)!*k! para n>=0, y 0<=k<=n"
   ]
  },
  {
   "cell_type": "code",
   "execution_count": null,
   "id": "b4ce6d31",
   "metadata": {},
   "outputs": [],
   "source": [
    "(define (fac n)\n",
    "   (cond ((= n 0) 1)\n",
    "    (else (* n (fac (- n 1))))\n",
    "    )\n",
    "  )\n",
    "\n",
    "(define (B n k)\n",
    "  (cond ((>= n 0)\n",
    "        (cond ((<= 0 k)\n",
    "              (cond ((<= k n)\n",
    "                    (/ (fac n) (* (fac (- n k)) (fac k))))\n",
    "                    (else \"k <= n\")))\n",
    "              (else \"k > 0\")))\n",
    "  (else \"n >= 0\"))\n",
    "  )"
   ]
  },
  {
   "cell_type": "markdown",
   "id": "abf1f42a",
   "metadata": {},
   "source": [
    "Ejemplo (B 5 3) devuelve: 10"
   ]
  },
  {
   "cell_type": "code",
   "execution_count": null,
   "id": "0cfcea2b",
   "metadata": {
    "scrolled": true
   },
   "outputs": [
    {
     "data": {
      "text/html": [
       "<code>10</code>"
      ],
      "text/plain": [
       "10"
      ]
     },
     "execution_count": 45,
     "metadata": {},
     "output_type": "execute_result"
    }
   ],
   "source": [
    "(B 5 3)"
   ]
  },
  {
   "cell_type": "markdown",
   "id": "c8385c3b",
   "metadata": {},
   "source": [
    "Ejemplo (B 9 2) devuelve: 36"
   ]
  },
  {
   "cell_type": "code",
   "execution_count": null,
   "id": "a6ea2209",
   "metadata": {},
   "outputs": [
    {
     "data": {
      "text/html": [
       "<code>36</code>"
      ],
      "text/plain": [
       "36"
      ]
     },
     "execution_count": 46,
     "metadata": {},
     "output_type": "execute_result"
    }
   ],
   "source": [
    "(B 9 2)"
   ]
  },
  {
   "cell_type": "markdown",
   "id": "6a9c72d6",
   "metadata": {},
   "source": [
    "## 2. Defina una función para la evaluación del número combinatorio C(n,k), que utiliza la definición recursiva. "
   ]
  },
  {
   "cell_type": "code",
   "execution_count": null,
   "id": "ecc9d5dd",
   "metadata": {},
   "outputs": [],
   "source": [
    "(define (C n k)\n",
    "  (cond ((>= n 0)\n",
    "        (cond ((>= k 0)\n",
    "              (cond ((>= n k)\n",
    "                    (if (= k 0) 1\n",
    "                        (if (= k n) 1\n",
    "                            (+ (C (- n 1) (- k 1)) (C (- n 1) k))\n",
    "                            )))\n",
    "                    (else \"n >= k\")))\n",
    "              (else \"k >= 0\")))\n",
    "  (else \"n >= 0\"))\n",
    "  )"
   ]
  },
  {
   "cell_type": "markdown",
   "id": "f9e45f50",
   "metadata": {},
   "source": [
    "Ejemplo (C 4 3) devuelve: 4"
   ]
  },
  {
   "cell_type": "code",
   "execution_count": null,
   "id": "09aeba95",
   "metadata": {
    "scrolled": true
   },
   "outputs": [
    {
     "data": {
      "text/html": [
       "<code>4</code>"
      ],
      "text/plain": [
       "4"
      ]
     },
     "execution_count": 48,
     "metadata": {},
     "output_type": "execute_result"
    }
   ],
   "source": [
    "(C 4 3)"
   ]
  },
  {
   "cell_type": "markdown",
   "id": "8b458027",
   "metadata": {},
   "source": [
    "Ejemplo (C 7 2) devuelve: 21"
   ]
  },
  {
   "cell_type": "code",
   "execution_count": null,
   "id": "2f847366",
   "metadata": {},
   "outputs": [
    {
     "data": {
      "text/html": [
       "<code>21</code>"
      ],
      "text/plain": [
       "21"
      ]
     },
     "execution_count": 49,
     "metadata": {},
     "output_type": "execute_result"
    }
   ],
   "source": [
    "(C 7 2)"
   ]
  },
  {
   "cell_type": "markdown",
   "id": "9751170b",
   "metadata": {},
   "source": [
    "## 3. Defina una función recursiva para calcular el Máximo Común Divisor de dos enteros negativos a y b con a < b usando el hecho de que MCD(a, b) = MCD(a, b-a)."
   ]
  },
  {
   "cell_type": "code",
   "execution_count": 5,
   "id": "9e7bde2a",
   "metadata": {},
   "outputs": [],
   "source": [
    "(define (MCD a b)\n",
    "  (cond\n",
    "    [(= a b) a]\n",
    "    [(< a b) (MCD a (- b a))]\n",
    "    [else (MCD b a)]))"
   ]
  },
  {
   "cell_type": "markdown",
   "id": "0ff710a6",
   "metadata": {},
   "source": [
    "Ejemplo (MCD 18 30) devolverá 6"
   ]
  },
  {
   "cell_type": "code",
   "execution_count": 7,
   "id": "fc0b5c0b",
   "metadata": {
    "scrolled": true
   },
   "outputs": [
    {
     "data": {
      "text/html": [
       "<code>6</code>"
      ],
      "text/plain": [
       "6"
      ]
     },
     "execution_count": 7,
     "metadata": {},
     "output_type": "execute_result"
    }
   ],
   "source": [
    "(MCD 18 30) "
   ]
  },
  {
   "cell_type": "markdown",
   "id": "73d43923",
   "metadata": {},
   "source": [
    "Ejemplo (MCD 7 15) devolverá 1"
   ]
  },
  {
   "cell_type": "code",
   "execution_count": 8,
   "id": "e4600e42",
   "metadata": {},
   "outputs": [
    {
     "data": {
      "text/html": [
       "<code>1</code>"
      ],
      "text/plain": [
       "1"
      ]
     },
     "execution_count": 8,
     "metadata": {},
     "output_type": "execute_result"
    }
   ],
   "source": [
    "(MCD 7 15)"
   ]
  },
  {
   "cell_type": "markdown",
   "id": "c91a5449",
   "metadata": {},
   "source": [
    "## 4. Definir una función que devuelva, en una lista, todos los números primos desde un número inicial hasta un número final"
   ]
  },
  {
   "cell_type": "code",
   "execution_count": null,
   "id": "09a19a48",
   "metadata": {},
   "outputs": [],
   "source": [
    "(define (primos a b)\n",
    "  ;Declaracion bucle con variable n que comenzará en a y la lista vacia de los primos\n",
    " (let loop ((n (+ 1 a)) (primos_list '())) \n",
    "    (cond ((> n b) primos_list)\n",
    "          ((is-primo? n) (loop (+ 1 n) (cons n primos_list)))\n",
    "          (else (loop (+ 1 n) primos_list)))))\n",
    "      \n",
    "(define (is-primo? n)\n",
    "  ;Descartamos 1, 2 y todos los nums pares\n",
    "  (cond ((<= n 1) #f) \n",
    "        ((= n 2) #t) \n",
    "        ((even? n) #f)\n",
    "        ; Ahora vamos a iterar con los nums impares a partir de 3\n",
    "        (else (let loop ((i 3))\n",
    "                (cond ((> (* i i) n) #t) ; Teorema matematico\n",
    "                      ((zero? (modulo n i)) #f) \n",
    "                      (else (loop (+ i 2)))))))) "
   ]
  },
  {
   "cell_type": "markdown",
   "id": "3c511e69",
   "metadata": {},
   "source": [
    "Ejemplo: (primos 3 10) este ejemplo devolverá '(5 7)."
   ]
  },
  {
   "cell_type": "code",
   "execution_count": null,
   "id": "5ae8e6ca",
   "metadata": {
    "scrolled": true
   },
   "outputs": [
    {
     "data": {
      "text/html": [
       "<code>'(7 5)</code>"
      ],
      "text/plain": [
       "'(7 5)"
      ]
     },
     "execution_count": 52,
     "metadata": {},
     "output_type": "execute_result"
    }
   ],
   "source": [
    "(primos 3 10)"
   ]
  },
  {
   "cell_type": "markdown",
   "id": "c34ffa83",
   "metadata": {},
   "source": [
    "Ejemplo: (primos 1 100) este ejemplo devolverá '(2, 3, 5, 7, 11, 13, 17, 19, 23, 29, 31, 37, 41, 43, 47, 53, 59, 61, 67, 71, 73, 79, 83, 89, 97)"
   ]
  },
  {
   "cell_type": "code",
   "execution_count": null,
   "id": "e46b2b8f",
   "metadata": {},
   "outputs": [
    {
     "data": {
      "text/html": [
       "<code>'(97 89 83 79 73 71 67 61 59 53 47 43 41 37 31 29 23 19 17 13 11 7 5 3 2)</code>"
      ],
      "text/plain": [
       "'(97 89 83 79 73 71 67 61 59 53 47 43 41 37 31 29 23 19 17 13 11 7 5 3 2)"
      ]
     },
     "execution_count": 53,
     "metadata": {},
     "output_type": "execute_result"
    }
   ],
   "source": [
    "(primos 1 100)"
   ]
  },
  {
   "cell_type": "markdown",
   "id": "9cf9e8ce",
   "metadata": {},
   "source": [
    "## 5. Realizar una función para hallar el valor de e definiéndola como sigue:"
   ]
  },
  {
   "attachments": {
    "image.png": {
     "image/png": "[encoded data removed]"
    }
   },
   "cell_type": "markdown",
   "id": "962f66b8",
   "metadata": {},
   "source": [
    "![image.png](attachment:image.png)"
   ]
  },
  {
   "cell_type": "code",
   "execution_count": 14,
   "id": "8f2a1f1f",
   "metadata": {},
   "outputs": [],
   "source": [
    "(define (fac n)\n",
    "   (cond ((= n 0) 1)\n",
    "    (else (* n (fac (- n 1))))\n",
    "    )\n",
    "  )\n",
    "(define (funE x)\n",
    "  (if (= x 0) 1\n",
    "      (+ (/ 1 (fac x)) (funE (- x 1)))\n",
    "      )\n",
    "  )"
   ]
  },
  {
   "cell_type": "markdown",
   "id": "27eaca94",
   "metadata": {},
   "source": [
    "Ejemplo (funE 0) devolverá 1"
   ]
  },
  {
   "cell_type": "code",
   "execution_count": 15,
   "id": "46e34fb8",
   "metadata": {
    "scrolled": true
   },
   "outputs": [
    {
     "data": {
      "text/html": [
       "<code>1</code>"
      ],
      "text/plain": [
       "1"
      ]
     },
     "execution_count": 15,
     "metadata": {},
     "output_type": "execute_result"
    }
   ],
   "source": [
    "(funE 0) ; Resultado esperado: 1, ya que la serie de Taylor para e^x evaluada en x = 0 es igual a 1."
   ]
  },
  {
   "cell_type": "markdown",
   "id": "d2262be9",
   "metadata": {},
   "source": [
    "Ejemplo (funE 3) devolverá 8/3"
   ]
  },
  {
   "cell_type": "code",
   "execution_count": 16,
   "id": "cfc7e741",
   "metadata": {},
   "outputs": [
    {
     "data": {
      "text/html": [
       "<code>8/3</code>"
      ],
      "text/plain": [
       "8/3"
      ]
     },
     "execution_count": 16,
     "metadata": {},
     "output_type": "execute_result"
    }
   ],
   "source": [
    "(funE 3)"
   ]
  },
  {
   "cell_type": "markdown",
   "id": "e1d27f1a",
   "metadata": {},
   "source": [
    "## 6. Realizar una función que indique la longitud de una lista"
   ]
  },
  {
   "cell_type": "code",
   "execution_count": 10,
   "id": "f68895f5",
   "metadata": {},
   "outputs": [],
   "source": [
    "(define (len lista)\n",
    "  (if (null? lista) 0\n",
    "      (+ 1 (len (cdr lista)))\n",
    "      )\n",
    "  )"
   ]
  },
  {
   "cell_type": "markdown",
   "id": "e0490f76",
   "metadata": {},
   "source": [
    "Ejemplo (len '()) devolverá 0"
   ]
  },
  {
   "cell_type": "code",
   "execution_count": 11,
   "id": "531e0d7b",
   "metadata": {
    "scrolled": true
   },
   "outputs": [
    {
     "data": {
      "text/html": [
       "<code>0</code>"
      ],
      "text/plain": [
       "0"
      ]
     },
     "execution_count": 11,
     "metadata": {},
     "output_type": "execute_result"
    }
   ],
   "source": [
    "(len '()) "
   ]
  },
  {
   "cell_type": "markdown",
   "id": "fa07cda0",
   "metadata": {},
   "source": [
    "Ejemplo (len '(1 2 3 4 5)) devolverá 5"
   ]
  },
  {
   "cell_type": "code",
   "execution_count": 12,
   "id": "85da8c0f",
   "metadata": {},
   "outputs": [
    {
     "data": {
      "text/html": [
       "<code>5</code>"
      ],
      "text/plain": [
       "5"
      ]
     },
     "execution_count": 12,
     "metadata": {},
     "output_type": "execute_result"
    }
   ],
   "source": [
    "(len '(1 2 3 4 5))"
   ]
  },
  {
   "cell_type": "markdown",
   "id": "99507a37",
   "metadata": {},
   "source": [
    "## 7. Realizar una función para buscar un elemento en una lista, regresar #t si lo encontró y #f si no lo encontró."
   ]
  },
  {
   "cell_type": "code",
   "execution_count": null,
   "id": "83d503ae",
   "metadata": {},
   "outputs": [],
   "source": [
    "(define (busca n arr)\n",
    "  (cond [(null? arr) #f]\n",
    "        [(= n (car arr)) #t]\n",
    "        [else (busca n (cdr arr))]))"
   ]
  },
  {
   "cell_type": "markdown",
   "id": "a971c834",
   "metadata": {},
   "source": [
    "Ejemplo de entrada: (busca 4 '(2 4 5))\n",
    "Ejemplo de salida: #t"
   ]
  },
  {
   "cell_type": "code",
   "execution_count": null,
   "id": "35d5b268",
   "metadata": {
    "scrolled": true
   },
   "outputs": [
    {
     "data": {
      "text/html": [
       "<code>#t</code>"
      ],
      "text/plain": [
       "#t"
      ]
     },
     "execution_count": 55,
     "metadata": {},
     "output_type": "execute_result"
    }
   ],
   "source": [
    "(busca 4 '(2 4 5))"
   ]
  },
  {
   "cell_type": "markdown",
   "id": "fee6c971",
   "metadata": {},
   "source": [
    "Ejemplo de entrada: (busca 3 '(2 4 5))\n",
    "Ejemplo de salida: #f"
   ]
  },
  {
   "cell_type": "code",
   "execution_count": null,
   "id": "d9099c36",
   "metadata": {},
   "outputs": [
    {
     "data": {
      "text/html": [
       "<code>#f</code>"
      ],
      "text/plain": [
       "#f"
      ]
     },
     "execution_count": 56,
     "metadata": {},
     "output_type": "execute_result"
    }
   ],
   "source": [
    "(busca 3 '(2 4 5))"
   ]
  },
  {
   "cell_type": "markdown",
   "id": "b08c2d37",
   "metadata": {},
   "source": [
    "## 8. Realizar una función recursiva en Lisp que invierta una lista."
   ]
  },
  {
   "cell_type": "code",
   "execution_count": null,
   "id": "0475b987",
   "metadata": {},
   "outputs": [],
   "source": [
    "(define (invierte lst)\n",
    "  (cond ((null? lst) '())\n",
    "        (else (append (invierte (cdr lst)) (list (car lst))))))"
   ]
  },
  {
   "cell_type": "markdown",
   "id": "ffc0b020",
   "metadata": {},
   "source": [
    "Ejemplo de entrada: (invierte '(2 4 5))\n",
    "Ejemplo de salida: (5 4 2)"
   ]
  },
  {
   "cell_type": "code",
   "execution_count": null,
   "id": "154f53b7",
   "metadata": {
    "scrolled": true
   },
   "outputs": [
    {
     "data": {
      "text/html": [
       "<code>'(5 4 2)</code>"
      ],
      "text/plain": [
       "'(5 4 2)"
      ]
     },
     "execution_count": 58,
     "metadata": {},
     "output_type": "execute_result"
    }
   ],
   "source": [
    "(invierte '(2 4 5))"
   ]
  },
  {
   "cell_type": "markdown",
   "id": "c7fae3d9",
   "metadata": {},
   "source": [
    "Ejemplo de entrada: (invierte '(3 2 1))\n",
    "Ejemplo de salida: (1 2 3)"
   ]
  },
  {
   "cell_type": "code",
   "execution_count": null,
   "id": "3b91f7bb",
   "metadata": {},
   "outputs": [
    {
     "data": {
      "text/html": [
       "<code>'(1 2 3)</code>"
      ],
      "text/plain": [
       "'(1 2 3)"
      ]
     },
     "execution_count": 59,
     "metadata": {},
     "output_type": "execute_result"
    }
   ],
   "source": [
    " (invierte '(3 2 1))"
   ]
  },
  {
   "cell_type": "markdown",
   "id": "7322ab9a",
   "metadata": {},
   "source": [
    "## 9. Realizar una función que elimine un elemento de una lista"
   ]
  },
  {
   "cell_type": "code",
   "execution_count": null,
   "id": "66c7d32d",
   "metadata": {},
   "outputs": [],
   "source": [
    "(define (elimina n arr)\n",
    "  (cond [(null? arr) '()]\n",
    "        [(= n (car arr)) (cdr arr)]\n",
    "        [else (cons (car arr) (elimina n (cdr arr)))]))"
   ]
  },
  {
   "cell_type": "markdown",
   "id": "9f5880af",
   "metadata": {},
   "source": [
    "Ejemplo de entrada: (elimina 4 '(2 4 5))\n",
    "Ejemplo de salida: (2 5)"
   ]
  },
  {
   "cell_type": "code",
   "execution_count": null,
   "id": "7bca2eb2",
   "metadata": {},
   "outputs": [
    {
     "data": {
      "text/html": [
       "<code>'(2 5)</code>"
      ],
      "text/plain": [
       "'(2 5)"
      ]
     },
     "execution_count": 61,
     "metadata": {},
     "output_type": "execute_result"
    }
   ],
   "source": [
    " (elimina 4 '(2 4 5)) "
   ]
  },
  {
   "cell_type": "markdown",
   "id": "f7dbd71c",
   "metadata": {},
   "source": [
    "Ejemplo de entrada: (elimina 8 '(8 1 2))\n",
    "Ejemplo de salida: (1 2)"
   ]
  },
  {
   "cell_type": "code",
   "execution_count": null,
   "id": "d55322d4",
   "metadata": {},
   "outputs": [
    {
     "data": {
      "text/html": [
       "<code>'(1 2)</code>"
      ],
      "text/plain": [
       "'(1 2)"
      ]
     },
     "execution_count": 62,
     "metadata": {},
     "output_type": "execute_result"
    }
   ],
   "source": [
    "(elimina 8 '(8 1 2))"
   ]
  },
  {
   "cell_type": "markdown",
   "id": "fb8fa91e",
   "metadata": {},
   "source": [
    "## 10. Defina una función para calcular la desviación estándar de un conjunto de datos (lista). La fórmula es la siguiente:"
   ]
  },
  {
   "attachments": {
    "image.png": {
     "image/png": "[encoded data removed]"
    }
   },
   "cell_type": "markdown",
   "id": "d3f8f22b",
   "metadata": {},
   "source": [
    "![image.png](attachment:image.png)"
   ]
  },
  {
   "cell_type": "code",
   "execution_count": 1,
   "id": "fac5285c",
   "metadata": {},
   "outputs": [],
   "source": [
    "(define (desv_estandar nums)\n",
    "  (let* ((n (length nums))\n",
    "         (avg (/ (apply + nums) n)) \n",
    "         (var (/\n",
    "               (apply + (map (lambda (a) (expt (- a avg) 2))nums ))\n",
    "               (- n 1))))\n",
    "    (sqrt var)))"
   ]
  },
  {
   "cell_type": "markdown",
   "id": "f3ff1aa5",
   "metadata": {},
   "source": [
    "Ejemplo (desv_estandar '(1 2 3 4 5)) devuelve 1.58"
   ]
  },
  {
   "cell_type": "code",
   "execution_count": 2,
   "id": "140049f8",
   "metadata": {
    "scrolled": false
   },
   "outputs": [
    {
     "data": {
      "text/html": [
       "<code>1.5811388300841898</code>"
      ],
      "text/plain": [
       "1.5811388300841898"
      ]
     },
     "execution_count": 2,
     "metadata": {},
     "output_type": "execute_result"
    }
   ],
   "source": [
    "(desv_estandar '(1 2 3 4 5))  "
   ]
  },
  {
   "cell_type": "markdown",
   "id": "4bfa06e3",
   "metadata": {},
   "source": [
    "Ejemplo (desv_estandar '(2 4 6 8 10)) devuelve 2.82"
   ]
  },
  {
   "cell_type": "code",
   "execution_count": 5,
   "id": "07228e3d",
   "metadata": {
    "scrolled": true
   },
   "outputs": [
    {
     "data": {
      "text/html": [
       "<code>3.1622776601683795</code>"
      ],
      "text/plain": [
       "3.1622776601683795"
      ]
     },
     "execution_count": 5,
     "metadata": {},
     "output_type": "execute_result"
    }
   ],
   "source": [
    "(desv_estandar '(2 4 6 8 10))"
   ]
  },
  {
   "cell_type": "code",
   "execution_count": null,
   "id": "1a9abc41",
   "metadata": {},
   "outputs": [],
   "source": []
  }
 ],
 "metadata": {
  "kernelspec": {
   "display_name": "Racket",
   "language": "racket",
   "name": "racket"
  },
  "language_info": {
   "codemirror_mode": "scheme",
   "file_extension": ".rkt",
   "mimetype": "text/x-racket",
   "name": "Racket",
   "pygments_lexer": "racket",
   "version": "8.8"
  }
 },
 "nbformat": 4,
 "nbformat_minor": 5
}
